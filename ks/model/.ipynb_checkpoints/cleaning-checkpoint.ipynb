{
 "cells": [
  {
   "cell_type": "code",
   "execution_count": null,
   "id": "signal-sterling",
   "metadata": {
    "id": "signal-sterling"
   },
   "outputs": [],
   "source": [
    "import pandas as pd\n",
    "import numpy as np\n",
    "import datetime\n",
    "\n",
    "from sklearn.pipeline import Pipeline\n",
    "from sklearn.ensemble import RandomForestClassifier\n",
    "from sklearn.model_selection import GridSearchCV, train_test_split\n",
    "from sklearn.feature_extraction.text import TfidfVectorizer\n",
    "from sklearn.model_selection import train_test_split\n",
    "\n",
    "from sklearn.pipeline import FeatureUnion\n",
    "from sklearn.preprocessing import FunctionTransformer, OneHotEncoder\n",
    "\n",
    "from sklearn.linear_model import RidgeClassifier"
   ]
  },
  {
   "cell_type": "code",
   "execution_count": null,
   "id": "outstanding-proxy",
   "metadata": {
    "id": "outstanding-proxy"
   },
   "outputs": [],
   "source": [
    "df_kickstarter = pd.read_csv('Kickstarter_dir/Kickstarter.csv')\n",
    "\n",
    "for i in range(1, 58): \n",
    "    if i < 10:\n",
    "        path = f'Kickstarter_dir/Kickstarter00{i}.csv'\n",
    "    else:\n",
    "        path = f'Kickstarter_dir/Kickstarter0{i}.csv'\n",
    "    \n",
    "    try:\n",
    "        temp_df = pd.read_csv(path)\n",
    "    except:\n",
    "        continue\n",
    "        \n",
    "    df_kickstarter = pd.concat([df_kickstarter, temp_df])"
   ]
  },
  {
   "cell_type": "code",
   "execution_count": null,
   "id": "surface-forum",
   "metadata": {
    "id": "surface-forum",
    "outputId": "c7fa8f3a-ee05-4d61-e996-693b4b9eaf82"
   },
   "outputs": [
    {
     "data": {
      "text/plain": [
       "(210835, 38)"
      ]
     },
     "execution_count": 3,
     "metadata": {
      "tags": []
     },
     "output_type": "execute_result"
    }
   ],
   "source": [
    "df_kickstarter.shape"
   ]
  },
  {
   "cell_type": "code",
   "execution_count": null,
   "id": "pediatric-package",
   "metadata": {
    "id": "pediatric-package",
    "outputId": "474a49f8-c6c1-4ba6-8d84-4404845a9eca"
   },
   "outputs": [
    {
     "data": {
      "text/plain": [
       "(191018, 11)"
      ]
     },
     "execution_count": 4,
     "metadata": {
      "tags": []
     },
     "output_type": "execute_result"
    }
   ],
   "source": [
    "def clean_df(df):\n",
    "\n",
    "    ##I dropped is_starrable and disable_communication because they only applied to live Kickstarters\n",
    "    #Only the needed columns for MVP dropping leaky high cardinality and redundant columns.\n",
    "    df = df[['blurb', 'category', 'country', 'created_at', 'deadline', 'goal',\n",
    "           'launched_at', 'location', 'name', 'state', 'usd_type']]\n",
    "\n",
    "    #Target Feature cleaning\n",
    "#     df = df.drop(df[df['state'] == 'live'].index)\n",
    "    df = df[df['state'] != 'live']\n",
    "    df['state'] = (df['state'] == 'successful').astype(int)\n",
    "    df['target'] = df['state']\n",
    "\n",
    "    #Int to Datetime\n",
    "    df['launched_at'] = [datetime.datetime.fromtimestamp(date) for date in df['launched_at']]\n",
    "    df['created_at'] = [datetime.datetime.fromtimestamp(date) for date in df['created_at']]\n",
    "    df['deadline'] = [datetime.datetime.fromtimestamp(date) for date in df['deadline']]\n",
    "\n",
    "    #New feature to replace datetimes\n",
    "    df['days_allotted'] = df.apply(lambda x: str(x.launched_at - x.deadline), axis=1)\n",
    "    df['days_allotted'] = [int(x[1:x.find(' d')]) for x in df['days_allotted']]\n",
    "    df['days_before_launch'] = df.apply(lambda x: str(x.created_at - x.launched_at), axis=1)\n",
    "    df['days_before_launch'] = [int(x[1:x.find(' d')])-1 for x in df['days_before_launch']]  \n",
    "\n",
    "    #Setting the time of creation as index and dropping those two columns\n",
    "    df.index = df['created_at']\n",
    "    df = df.drop(columns = ['launched_at', 'created_at', 'deadline'])\n",
    "\n",
    "    #Replace Location Nans with 'Not Listed after next step' NOTE FOR FRONT END: This can be optional if converted.\n",
    "    df['location'] = df['location'].replace(np.nan, '\":\"     Not Listed ', regex=True)\n",
    "\n",
    "    #Slimming down Category and Location and adding state\n",
    "    df['category'] = [x[x.find('\":\"')+3:x.find('\",\"')] for x in df['category']]\n",
    "    df['state'] = [x[x.find('\"state\":\"')+9:x.find('\",\"type')] for x in df['location']]\n",
    "    df['location'] = [x[x.find('\":\"')+3:x.find('\",\"')] for x in df['location']]\n",
    "\n",
    "    return(df)\n",
    "\n",
    "df = clean_df(df_kickstarter)\n",
    "\n",
    "df = df.drop_duplicates()\n",
    "\n",
    "df.shape"
   ]
  },
  {
   "cell_type": "code",
   "execution_count": null,
   "id": "collect-rating",
   "metadata": {
    "id": "collect-rating",
    "outputId": "486fd751-cbad-44e8-9d6d-83d68019ce57"
   },
   "outputs": [
    {
     "data": {
      "text/html": [
       "<div>\n",
       "<style scoped>\n",
       "    .dataframe tbody tr th:only-of-type {\n",
       "        vertical-align: middle;\n",
       "    }\n",
       "\n",
       "    .dataframe tbody tr th {\n",
       "        vertical-align: top;\n",
       "    }\n",
       "\n",
       "    .dataframe thead th {\n",
       "        text-align: right;\n",
       "    }\n",
       "</style>\n",
       "<table border=\"1\" class=\"dataframe\">\n",
       "  <thead>\n",
       "    <tr style=\"text-align: right;\">\n",
       "      <th></th>\n",
       "      <th>blurb</th>\n",
       "      <th>category</th>\n",
       "      <th>country</th>\n",
       "      <th>goal</th>\n",
       "      <th>location</th>\n",
       "      <th>name</th>\n",
       "      <th>state</th>\n",
       "      <th>usd_type</th>\n",
       "      <th>target</th>\n",
       "      <th>days_allotted</th>\n",
       "      <th>days_before_launch</th>\n",
       "    </tr>\n",
       "    <tr>\n",
       "      <th>created_at</th>\n",
       "      <th></th>\n",
       "      <th></th>\n",
       "      <th></th>\n",
       "      <th></th>\n",
       "      <th></th>\n",
       "      <th></th>\n",
       "      <th></th>\n",
       "      <th></th>\n",
       "      <th></th>\n",
       "      <th></th>\n",
       "      <th></th>\n",
       "    </tr>\n",
       "  </thead>\n",
       "  <tbody>\n",
       "    <tr>\n",
       "      <th>2020-07-26 17:49:28</th>\n",
       "      <td>Adorable enamel pins, stickers, prints, key ch...</td>\n",
       "      <td>Digital Art</td>\n",
       "      <td>US</td>\n",
       "      <td>700.0</td>\n",
       "      <td>Dover-Foxcroft</td>\n",
       "      <td>Adorable Alien Enamel Pins (Canceled)</td>\n",
       "      <td>ME</td>\n",
       "      <td>domestic</td>\n",
       "      <td>0</td>\n",
       "      <td>30</td>\n",
       "      <td>24</td>\n",
       "    </tr>\n",
       "    <tr>\n",
       "      <th>2015-08-18 21:01:19</th>\n",
       "      <td>With your help we will create this device that...</td>\n",
       "      <td>3D Printing</td>\n",
       "      <td>ES</td>\n",
       "      <td>15000.0</td>\n",
       "      <td>Mexico</td>\n",
       "      <td>Save water 100% liquid downloads in toilets at...</td>\n",
       "      <td>Yucatan</td>\n",
       "      <td>domestic</td>\n",
       "      <td>0</td>\n",
       "      <td>30</td>\n",
       "      <td>295</td>\n",
       "    </tr>\n",
       "    <tr>\n",
       "      <th>2015-08-11 18:04:21</th>\n",
       "      <td>We at Ormiston Primary are looking at starting...</td>\n",
       "      <td>Farms</td>\n",
       "      <td>NZ</td>\n",
       "      <td>5000.0</td>\n",
       "      <td>Flat Bush</td>\n",
       "      <td>Ormiston Primary Community Garden</td>\n",
       "      <td>Auckland Region</td>\n",
       "      <td>domestic</td>\n",
       "      <td>0</td>\n",
       "      <td>30</td>\n",
       "      <td>0</td>\n",
       "    </tr>\n",
       "    <tr>\n",
       "      <th>2015-04-28 21:14:03</th>\n",
       "      <td>Self-taught aspiring metalsmith Looking for he...</td>\n",
       "      <td>Mixed Media</td>\n",
       "      <td>US</td>\n",
       "      <td>10000.0</td>\n",
       "      <td>Jackson</td>\n",
       "      <td>Aspiring metalsmith in need of better tools, a...</td>\n",
       "      <td>MS</td>\n",
       "      <td>domestic</td>\n",
       "      <td>0</td>\n",
       "      <td>30</td>\n",
       "      <td>0</td>\n",
       "    </tr>\n",
       "    <tr>\n",
       "      <th>2014-07-07 01:30:52</th>\n",
       "      <td>So many women believe they are past their prim...</td>\n",
       "      <td>People</td>\n",
       "      <td>US</td>\n",
       "      <td>2000.0</td>\n",
       "      <td>Austin</td>\n",
       "      <td>Beauty At Any Age</td>\n",
       "      <td>TX</td>\n",
       "      <td>domestic</td>\n",
       "      <td>0</td>\n",
       "      <td>30</td>\n",
       "      <td>80</td>\n",
       "    </tr>\n",
       "  </tbody>\n",
       "</table>\n",
       "</div>"
      ],
      "text/plain": [
       "                                                                 blurb  \\\n",
       "created_at                                                               \n",
       "2020-07-26 17:49:28  Adorable enamel pins, stickers, prints, key ch...   \n",
       "2015-08-18 21:01:19  With your help we will create this device that...   \n",
       "2015-08-11 18:04:21  We at Ormiston Primary are looking at starting...   \n",
       "2015-04-28 21:14:03  Self-taught aspiring metalsmith Looking for he...   \n",
       "2014-07-07 01:30:52  So many women believe they are past their prim...   \n",
       "\n",
       "                        category country     goal        location  \\\n",
       "created_at                                                          \n",
       "2020-07-26 17:49:28  Digital Art      US    700.0  Dover-Foxcroft   \n",
       "2015-08-18 21:01:19  3D Printing      ES  15000.0          Mexico   \n",
       "2015-08-11 18:04:21        Farms      NZ   5000.0       Flat Bush   \n",
       "2015-04-28 21:14:03  Mixed Media      US  10000.0         Jackson   \n",
       "2014-07-07 01:30:52       People      US   2000.0          Austin   \n",
       "\n",
       "                                                                  name  \\\n",
       "created_at                                                               \n",
       "2020-07-26 17:49:28              Adorable Alien Enamel Pins (Canceled)   \n",
       "2015-08-18 21:01:19  Save water 100% liquid downloads in toilets at...   \n",
       "2015-08-11 18:04:21                  Ormiston Primary Community Garden   \n",
       "2015-04-28 21:14:03  Aspiring metalsmith in need of better tools, a...   \n",
       "2014-07-07 01:30:52                                  Beauty At Any Age   \n",
       "\n",
       "                               state  usd_type  target  days_allotted  \\\n",
       "created_at                                                              \n",
       "2020-07-26 17:49:28               ME  domestic       0             30   \n",
       "2015-08-18 21:01:19          Yucatan  domestic       0             30   \n",
       "2015-08-11 18:04:21  Auckland Region  domestic       0             30   \n",
       "2015-04-28 21:14:03               MS  domestic       0             30   \n",
       "2014-07-07 01:30:52               TX  domestic       0             30   \n",
       "\n",
       "                     days_before_launch  \n",
       "created_at                               \n",
       "2020-07-26 17:49:28                  24  \n",
       "2015-08-18 21:01:19                 295  \n",
       "2015-08-11 18:04:21                   0  \n",
       "2015-04-28 21:14:03                   0  \n",
       "2014-07-07 01:30:52                  80  "
      ]
     },
     "execution_count": 5,
     "metadata": {
      "tags": []
     },
     "output_type": "execute_result"
    }
   ],
   "source": [
    "df.head()"
   ]
  },
  {
   "cell_type": "code",
   "execution_count": null,
   "id": "unexpected-tsunami",
   "metadata": {
    "id": "unexpected-tsunami"
   },
   "outputs": [],
   "source": [
    "df.dropna(inplace=True)"
   ]
  },
  {
   "cell_type": "code",
   "execution_count": null,
   "id": "vertical-spider",
   "metadata": {
    "id": "vertical-spider",
    "outputId": "979f8765-60f1-4810-f05c-d577ba08d40f"
   },
   "outputs": [
    {
     "data": {
      "text/plain": [
       "(190665, 11)"
      ]
     },
     "execution_count": 7,
     "metadata": {
      "tags": []
     },
     "output_type": "execute_result"
    }
   ],
   "source": [
    "df.shape"
   ]
  },
  {
   "cell_type": "code",
   "execution_count": null,
   "id": "hindu-roots",
   "metadata": {
    "id": "hindu-roots"
   },
   "outputs": [],
   "source": [
    "# df_clean = df.sample(100000)"
   ]
  },
  {
   "cell_type": "code",
   "execution_count": null,
   "id": "acknowledged-bicycle",
   "metadata": {
    "id": "acknowledged-bicycle",
    "outputId": "e58ed6d8-5f93-468c-cbf1-b41f0fba5b79",
    "scrolled": true
   },
   "outputs": [
    {
     "data": {
      "text/html": [
       "<div>\n",
       "<style scoped>\n",
       "    .dataframe tbody tr th:only-of-type {\n",
       "        vertical-align: middle;\n",
       "    }\n",
       "\n",
       "    .dataframe tbody tr th {\n",
       "        vertical-align: top;\n",
       "    }\n",
       "\n",
       "    .dataframe thead th {\n",
       "        text-align: right;\n",
       "    }\n",
       "</style>\n",
       "<table border=\"1\" class=\"dataframe\">\n",
       "  <thead>\n",
       "    <tr style=\"text-align: right;\">\n",
       "      <th></th>\n",
       "      <th>blurb</th>\n",
       "      <th>category</th>\n",
       "      <th>country</th>\n",
       "      <th>goal</th>\n",
       "      <th>location</th>\n",
       "      <th>state</th>\n",
       "      <th>usd_type</th>\n",
       "      <th>days_allotted</th>\n",
       "      <th>days_before_launch</th>\n",
       "    </tr>\n",
       "    <tr>\n",
       "      <th>created_at</th>\n",
       "      <th></th>\n",
       "      <th></th>\n",
       "      <th></th>\n",
       "      <th></th>\n",
       "      <th></th>\n",
       "      <th></th>\n",
       "      <th></th>\n",
       "      <th></th>\n",
       "      <th></th>\n",
       "    </tr>\n",
       "  </thead>\n",
       "  <tbody>\n",
       "    <tr>\n",
       "      <th>2020-07-26 17:49:28</th>\n",
       "      <td>Adorable enamel pins, stickers, prints, key ch...</td>\n",
       "      <td>Digital Art</td>\n",
       "      <td>US</td>\n",
       "      <td>700.0</td>\n",
       "      <td>Dover-Foxcroft</td>\n",
       "      <td>ME</td>\n",
       "      <td>domestic</td>\n",
       "      <td>30</td>\n",
       "      <td>24</td>\n",
       "    </tr>\n",
       "    <tr>\n",
       "      <th>2015-08-18 21:01:19</th>\n",
       "      <td>With your help we will create this device that...</td>\n",
       "      <td>3D Printing</td>\n",
       "      <td>ES</td>\n",
       "      <td>15000.0</td>\n",
       "      <td>Mexico</td>\n",
       "      <td>Yucatan</td>\n",
       "      <td>domestic</td>\n",
       "      <td>30</td>\n",
       "      <td>295</td>\n",
       "    </tr>\n",
       "    <tr>\n",
       "      <th>2015-08-11 18:04:21</th>\n",
       "      <td>We at Ormiston Primary are looking at starting...</td>\n",
       "      <td>Farms</td>\n",
       "      <td>NZ</td>\n",
       "      <td>5000.0</td>\n",
       "      <td>Flat Bush</td>\n",
       "      <td>Auckland Region</td>\n",
       "      <td>domestic</td>\n",
       "      <td>30</td>\n",
       "      <td>0</td>\n",
       "    </tr>\n",
       "    <tr>\n",
       "      <th>2015-04-28 21:14:03</th>\n",
       "      <td>Self-taught aspiring metalsmith Looking for he...</td>\n",
       "      <td>Mixed Media</td>\n",
       "      <td>US</td>\n",
       "      <td>10000.0</td>\n",
       "      <td>Jackson</td>\n",
       "      <td>MS</td>\n",
       "      <td>domestic</td>\n",
       "      <td>30</td>\n",
       "      <td>0</td>\n",
       "    </tr>\n",
       "    <tr>\n",
       "      <th>2014-07-07 01:30:52</th>\n",
       "      <td>So many women believe they are past their prim...</td>\n",
       "      <td>People</td>\n",
       "      <td>US</td>\n",
       "      <td>2000.0</td>\n",
       "      <td>Austin</td>\n",
       "      <td>TX</td>\n",
       "      <td>domestic</td>\n",
       "      <td>30</td>\n",
       "      <td>80</td>\n",
       "    </tr>\n",
       "  </tbody>\n",
       "</table>\n",
       "</div>"
      ],
      "text/plain": [
       "                                                                 blurb  \\\n",
       "created_at                                                               \n",
       "2020-07-26 17:49:28  Adorable enamel pins, stickers, prints, key ch...   \n",
       "2015-08-18 21:01:19  With your help we will create this device that...   \n",
       "2015-08-11 18:04:21  We at Ormiston Primary are looking at starting...   \n",
       "2015-04-28 21:14:03  Self-taught aspiring metalsmith Looking for he...   \n",
       "2014-07-07 01:30:52  So many women believe they are past their prim...   \n",
       "\n",
       "                        category country     goal        location  \\\n",
       "created_at                                                          \n",
       "2020-07-26 17:49:28  Digital Art      US    700.0  Dover-Foxcroft   \n",
       "2015-08-18 21:01:19  3D Printing      ES  15000.0          Mexico   \n",
       "2015-08-11 18:04:21        Farms      NZ   5000.0       Flat Bush   \n",
       "2015-04-28 21:14:03  Mixed Media      US  10000.0         Jackson   \n",
       "2014-07-07 01:30:52       People      US   2000.0          Austin   \n",
       "\n",
       "                               state  usd_type  days_allotted  \\\n",
       "created_at                                                      \n",
       "2020-07-26 17:49:28               ME  domestic             30   \n",
       "2015-08-18 21:01:19          Yucatan  domestic             30   \n",
       "2015-08-11 18:04:21  Auckland Region  domestic             30   \n",
       "2015-04-28 21:14:03               MS  domestic             30   \n",
       "2014-07-07 01:30:52               TX  domestic             30   \n",
       "\n",
       "                     days_before_launch  \n",
       "created_at                               \n",
       "2020-07-26 17:49:28                  24  \n",
       "2015-08-18 21:01:19                 295  \n",
       "2015-08-11 18:04:21                   0  \n",
       "2015-04-28 21:14:03                   0  \n",
       "2014-07-07 01:30:52                  80  "
      ]
     },
     "execution_count": 96,
     "metadata": {
      "tags": []
     },
     "output_type": "execute_result"
    }
   ],
   "source": [
    "y = df['target']\n",
    "X = df.drop(columns=['target', 'name'])\n",
    "X.head()"
   ]
  },
  {
   "cell_type": "code",
   "execution_count": null,
   "id": "assured-nowhere",
   "metadata": {
    "id": "assured-nowhere"
   },
   "outputs": [],
   "source": []
  },
  {
   "cell_type": "code",
   "execution_count": null,
   "id": "architectural-banner",
   "metadata": {
    "id": "architectural-banner"
   },
   "outputs": [],
   "source": [
    "X_train, X_test, y_train, y_test = train_test_split(X, y, test_size=0.2, random_state=42)"
   ]
  },
  {
   "cell_type": "code",
   "execution_count": null,
   "id": "advance-lafayette",
   "metadata": {
    "id": "advance-lafayette",
    "outputId": "f07c523d-7dfb-4f1c-8d8d-5bad877c947b"
   },
   "outputs": [
    {
     "data": {
      "text/plain": [
       "((152532, 9), (38133, 9), (152532,), (38133,))"
      ]
     },
     "execution_count": 98,
     "metadata": {
      "tags": []
     },
     "output_type": "execute_result"
    }
   ],
   "source": [
    "X_train.shape, X_test.shape, y_train.shape, y_test.shape"
   ]
  },
  {
   "cell_type": "code",
   "execution_count": null,
   "id": "designing-brick",
   "metadata": {
    "id": "designing-brick"
   },
   "outputs": [],
   "source": []
  },
  {
   "cell_type": "code",
   "execution_count": null,
   "id": "unable-enough",
   "metadata": {
    "id": "unable-enough",
    "outputId": "eeae267a-7bba-432c-e103-685a515660b9"
   },
   "outputs": [
    {
     "ename": "ModuleNotFoundError",
     "evalue": "No module named '__main__.my_functions'; '__main__' is not a package",
     "output_type": "error",
     "traceback": [
      "\u001b[0;31m---------------------------------------------------------------------------\u001b[0m",
      "\u001b[0;31mModuleNotFoundError\u001b[0m                       Traceback (most recent call last)",
      "\u001b[0;32m<ipython-input-59-2662f45ba674>\u001b[0m in \u001b[0;36m<module>\u001b[0;34m\u001b[0m\n\u001b[1;32m      1\u001b[0m \u001b[0;31m# Create Function Transformer to use Feature Union\u001b[0m\u001b[0;34m\u001b[0m\u001b[0;34m\u001b[0m\u001b[0m\n\u001b[0;32m----> 2\u001b[0;31m \u001b[0;32mfrom\u001b[0m \u001b[0;34m.\u001b[0m\u001b[0mmy_functions\u001b[0m \u001b[0;32mimport\u001b[0m \u001b[0mf_transformers\u001b[0m\u001b[0;34m\u001b[0m\u001b[0m\n\u001b[0m\u001b[1;32m      3\u001b[0m \u001b[0;31m# def get_numeric_data(df):\u001b[0m\u001b[0;34m\u001b[0m\u001b[0;34m\u001b[0m\u001b[0m\n\u001b[1;32m      4\u001b[0m \u001b[0;31m#     return df.drop(columns=['blurb'])\u001b[0m\u001b[0;34m\u001b[0m\u001b[0;34m\u001b[0m\u001b[0m\n\u001b[1;32m      5\u001b[0m \u001b[0;34m\u001b[0m\u001b[0m\n",
      "\u001b[0;31mModuleNotFoundError\u001b[0m: No module named '__main__.my_functions'; '__main__' is not a package"
     ]
    }
   ],
   "source": [
    "# Create Function Transformer to use Feature Union\n",
    "def get_numeric_data(df):\n",
    "    return df.drop(columns=['blurb'])\n",
    "\n",
    "def get_text_data(df):\n",
    "    return df['blurb']\n",
    "\n",
    "transfomer_numeric = FunctionTransformer(get_numeric_data)\n",
    "transformer_text = FunctionTransformer(get_text_data)\n",
    "\n",
    "# create tfidf instance\n",
    "tfidf = TfidfVectorizer()\n",
    "\n",
    "# Create a pipeline to concatenate Tfidf Vector and Numeric data\n",
    "pipe = Pipeline([\n",
    "    ('features', FeatureUnion([\n",
    "            ('numeric_features', Pipeline([\n",
    "                ('selector', transfomer_numeric),\n",
    "                ('ohe', OneHotEncoder(handle_unknown='ignore'))\n",
    "            ])),\n",
    "             ('text_features', Pipeline([\n",
    "                ('selector', transformer_text),\n",
    "                ('vec', TfidfVectorizer())\n",
    "            ]))\n",
    "         ])),\n",
    "    ('clf', RidgeClassifier())\n",
    "])\n",
    "\n",
    "# create parameter dict\n",
    "params = {\n",
    "    'clf__alpha':[0.1, 0.3, 1, 3, 10],\n",
    "}\n",
    "\n",
    "# instantiate a grid search object\n",
    "gs = GridSearchCV(pipe, params, cv=10, verbose=1, n_jobs=-2)"
   ]
  },
  {
   "cell_type": "code",
   "execution_count": null,
   "id": "subtle-compact",
   "metadata": {
    "id": "subtle-compact",
    "outputId": "54a6a881-ce9b-4cab-98f3-4e87790f417c"
   },
   "outputs": [
    {
     "name": "stdout",
     "output_type": "stream",
     "text": [
      "Fitting 10 folds for each of 5 candidates, totalling 50 fits\n"
     ]
    },
    {
     "name": "stderr",
     "output_type": "stream",
     "text": [
      "[Parallel(n_jobs=-2)]: Using backend LokyBackend with 11 concurrent workers.\n",
      "[Parallel(n_jobs=-2)]: Done  28 tasks      | elapsed:  1.9min\n",
      "[Parallel(n_jobs=-2)]: Done  50 out of  50 | elapsed:  2.3min finished\n"
     ]
    }
   ],
   "source": [
    "# optimize model parameters\n",
    "gs.fit(X_train, y_train);"
   ]
  },
  {
   "cell_type": "code",
   "execution_count": null,
   "id": "conceptual-genius",
   "metadata": {
    "id": "conceptual-genius",
    "outputId": "b7de3953-70e3-4961-90f6-851f13c90b72"
   },
   "outputs": [
    {
     "data": {
      "text/plain": [
       "0.8204835828292609"
      ]
     },
     "execution_count": 16,
     "metadata": {
      "tags": []
     },
     "output_type": "execute_result"
    }
   ],
   "source": [
    "gs.best_score_"
   ]
  },
  {
   "cell_type": "code",
   "execution_count": null,
   "id": "anonymous-shaft",
   "metadata": {
    "id": "anonymous-shaft",
    "outputId": "d6a3c5e2-8fc3-4b63-8605-c4fc27344ad8"
   },
   "outputs": [
    {
     "data": {
      "text/plain": [
       "{'clf__alpha': 10}"
      ]
     },
     "execution_count": 17,
     "metadata": {
      "tags": []
     },
     "output_type": "execute_result"
    }
   ],
   "source": [
    "gs.best_params_"
   ]
  },
  {
   "cell_type": "code",
   "execution_count": null,
   "id": "hybrid-kingston",
   "metadata": {
    "id": "hybrid-kingston"
   },
   "outputs": [],
   "source": [
    "best_model = gs.best_estimator_"
   ]
  },
  {
   "cell_type": "code",
   "execution_count": null,
   "id": "middle-integer",
   "metadata": {
    "id": "middle-integer",
    "outputId": "55a33d7f-0253-47bd-86fc-b1f0548d2a62"
   },
   "outputs": [
    {
     "name": "stdout",
     "output_type": "stream",
     "text": [
      "Training Accuracy: 0.8580035664647419\n",
      "Validation Accuracy: 0.8181889701833058\n"
     ]
    }
   ],
   "source": [
    "print('Training Accuracy:', best_model.score(X_train, y_train))\n",
    "print('Validation Accuracy:', best_model.score(X_test, y_test))"
   ]
  },
  {
   "cell_type": "code",
   "execution_count": null,
   "id": "figured-acrobat",
   "metadata": {
    "id": "figured-acrobat"
   },
   "outputs": [],
   "source": [
    "import pickle\n",
    "\n",
    "# save the model to disk\n",
    "filename = 'ks_model.sav'\n",
    "pickle.dump(gs.best_estimator_, open(filename, 'wb'))"
   ]
  },
  {
   "cell_type": "code",
   "execution_count": null,
   "id": "intended-interest",
   "metadata": {
    "id": "intended-interest"
   },
   "outputs": [],
   "source": [
    "import pickle\n",
    "# load the model from disk\n",
    "loaded_model = pickle.load(open(filename, 'rb'))"
   ]
  },
  {
   "cell_type": "code",
   "execution_count": null,
   "id": "spanish-optimization",
   "metadata": {
    "id": "spanish-optimization"
   },
   "outputs": [],
   "source": [
    "sample_text = ['Are you tired of things breaking things, then having to throw them away. Well we invented glue!']\n",
    "\n",
    "sample_vect = tfidf.fit_transform(sample_text)\n",
    "\n",
    "y_hat = loaded_model.predict(pd.DataFrame({'blurb': sample_text,\n",
    "                          'category':'Graphic Design',\n",
    "                          'country':'US',\n",
    "                          'goal':100.0,\n",
    "                          'location':'San Diego',\n",
    "                          'state':'CA',\n",
    "                          'usd_type':'domestic',\n",
    "                          'days_allotted':0,\n",
    "                          'days_before_launch':0}))"
   ]
  },
  {
   "cell_type": "code",
   "execution_count": null,
   "id": "disciplinary-median",
   "metadata": {
    "id": "disciplinary-median",
    "outputId": "51863abb-49a3-444b-869b-0e28b4a729d9"
   },
   "outputs": [
    {
     "data": {
      "text/plain": [
       "array([0])"
      ]
     },
     "execution_count": 35,
     "metadata": {
      "tags": []
     },
     "output_type": "execute_result"
    }
   ],
   "source": [
    "y_hat"
   ]
  },
  {
   "cell_type": "code",
   "execution_count": null,
   "id": "minute-seafood",
   "metadata": {
    "id": "minute-seafood"
   },
   "outputs": [],
   "source": []
  },
  {
   "cell_type": "code",
   "execution_count": null,
   "id": "coordinated-habitat",
   "metadata": {
    "id": "coordinated-habitat",
    "outputId": "44446759-11e9-480b-bfd0-dd02699701a6"
   },
   "outputs": [
    {
     "data": {
      "text/plain": [
       "['ks_model.joblib']"
      ]
     },
     "execution_count": 36,
     "metadata": {
      "tags": []
     },
     "output_type": "execute_result"
    }
   ],
   "source": [
    "from joblib import dump, load\n",
    "dump(best_model, 'ks_model.joblib')"
   ]
  },
  {
   "cell_type": "code",
   "execution_count": null,
   "id": "cloudy-steam",
   "metadata": {
    "id": "cloudy-steam"
   },
   "outputs": [],
   "source": [
    "from joblib import dump, load\n",
    "loaded_model = load('ks_model.joblib')"
   ]
  },
  {
   "cell_type": "code",
   "execution_count": null,
   "id": "manufactured-genetics",
   "metadata": {
    "id": "manufactured-genetics"
   },
   "outputs": [],
   "source": [
    "y_hat = loaded_model.predict(pd.DataFrame({'blurb': sample_text,\n",
    "                          'category':'Product Design',\n",
    "                          'country':'US',\n",
    "                          'goal':100.0,\n",
    "                          'location':'San Diego',\n",
    "                          'state':'CA',\n",
    "                          'usd_type':'domestic',\n",
    "                          'days_allotted':0,\n",
    "                          'days_before_launch':0}))"
   ]
  },
  {
   "cell_type": "code",
   "execution_count": null,
   "id": "exact-confirmation",
   "metadata": {
    "id": "exact-confirmation",
    "outputId": "ec9cd8fd-6c6b-40e0-a447-7376cd67ef70"
   },
   "outputs": [
    {
     "data": {
      "text/plain": [
       "array([1])"
      ]
     },
     "execution_count": 43,
     "metadata": {
      "tags": []
     },
     "output_type": "execute_result"
    }
   ],
   "source": [
    "y_hat"
   ]
  },
  {
   "cell_type": "code",
   "execution_count": null,
   "id": "accessible-savage",
   "metadata": {
    "id": "accessible-savage"
   },
   "outputs": [],
   "source": [
    "import dill\n",
    "with open('numeric_f.joblib','wb') as io:\n",
    "    dill.dump(transfomer_numeric,io)\n",
    "    \n",
    "with open('text_f.joblib','wb') as io:\n",
    "    dill.dump(transformer_text,io)"
   ]
  },
  {
   "cell_type": "code",
   "execution_count": null,
   "id": "amber-sector",
   "metadata": {
    "id": "amber-sector"
   },
   "outputs": [],
   "source": []
  }
 ],
 "metadata": {
  "colab": {
   "name": "Cleaning.ipynb",
   "provenance": []
  },
  "kernelspec": {
   "display_name": "Python 3",
   "language": "python",
   "name": "python3"
  },
  "language_info": {
   "codemirror_mode": {
    "name": "ipython",
    "version": 3
   },
   "file_extension": ".py",
   "mimetype": "text/x-python",
   "name": "python",
   "nbconvert_exporter": "python",
   "pygments_lexer": "ipython3",
   "version": "3.9.1"
  }
 },
 "nbformat": 4,
 "nbformat_minor": 5
}
